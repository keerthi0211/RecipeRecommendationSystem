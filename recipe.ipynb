{
 "cells": [
  {
   "cell_type": "code",
   "execution_count": 2,
   "metadata": {},
   "outputs": [
    {
     "name": "stdout",
     "output_type": "stream",
     "text": [
      "       prep_time (in mins)  cook_time (in mins)\n",
      "count          7289.000000          7289.000000\n",
      "mean             28.973659            32.171766\n",
      "std              86.234272            92.673236\n",
      "min               0.000000             0.000000\n",
      "25%              10.000000            20.000000\n",
      "50%              15.000000            30.000000\n",
      "75%              20.000000            35.000000\n",
      "max            2880.000000          7200.000000\n",
      "<class 'pandas.core.frame.DataFrame'>\n",
      "RangeIndex: 7316 entries, 0 to 7315\n",
      "Data columns (total 11 columns):\n",
      " #   Column                Non-Null Count  Dtype  \n",
      "---  ------                --------------  -----  \n",
      " 0   name                  7316 non-null   object \n",
      " 1   description           7315 non-null   object \n",
      " 2   cuisine               7254 non-null   object \n",
      " 3   course                7172 non-null   object \n",
      " 4   diet                  7178 non-null   object \n",
      " 5   ingredients_name      7309 non-null   object \n",
      " 6   ingredients_quantity  7309 non-null   object \n",
      " 7   prep_time (in mins)   7289 non-null   float64\n",
      " 8   cook_time (in mins)   7289 non-null   float64\n",
      " 9   instructions          7316 non-null   object \n",
      " 10  image_url             7316 non-null   object \n",
      "dtypes: float64(2), object(9)\n",
      "memory usage: 628.8+ KB\n",
      "None\n"
     ]
    }
   ],
   "source": [
    "import pandas as pd\n",
    "\n",
    "# Load the dataset\n",
    "df = pd.read_csv('/Users/keerthireddy/Documents/GitHub/RecipeRecommendationSystem/Food_Recipe.csv')\n",
    "\n",
    "# Basic statistics\n",
    "print(df.describe())\n",
    "print(df.info())"
   ]
  },
  {
   "cell_type": "code",
   "execution_count": 3,
   "metadata": {},
   "outputs": [
    {
     "name": "stdout",
     "output_type": "stream",
     "text": [
      "name                      0\n",
      "description               1\n",
      "cuisine                  62\n",
      "course                  144\n",
      "diet                    138\n",
      "ingredients_name          7\n",
      "ingredients_quantity      7\n",
      "prep_time (in mins)      27\n",
      "cook_time (in mins)      27\n",
      "instructions              0\n",
      "image_url                 0\n",
      "dtype: int64\n"
     ]
    }
   ],
   "source": [
    "print(df.isnull().sum())"
   ]
  },
  {
   "cell_type": "code",
   "execution_count": 5,
   "metadata": {},
   "outputs": [
    {
     "name": "stdout",
     "output_type": "stream",
     "text": [
      "                                                   name  \\\n",
      "0     Mint Vegetables Moilee Recipe (Mixed Vegetable...   \n",
      "1     Potato And Peas Curry Recipe In Coconut Milk G...   \n",
      "2     Whole Wheat Chocolate Chip Pancakes With Apple...   \n",
      "3     Kollu Pachadi Recipe (Sprouted Horse gram Rait...   \n",
      "4                                      Recipe Bed Belts   \n",
      "...                                                 ...   \n",
      "7074                 Eggless Tutti Frutti Cookie Recipe   \n",
      "7075                        Chocolate Chip Scone Recipe   \n",
      "7076                               Kashmiri Roth Recipe   \n",
      "7077                    Oatmeal Cranberry Cookie Recipe   \n",
      "7078  Choco Swirl Cookies Recipe (Eggless Choco Pinw...   \n",
      "\n",
      "                                            description          cuisine  \\\n",
      "0     Moilee is a very traditional Kerala dish where...   Kerala Recipes   \n",
      "1     Potato And Peas In Coconut Milk Curry Recipe i...           Indian   \n",
      "2     Whole Wheat Chocolate Chip Pancakes with zeste...      Continental   \n",
      "3     Kollu Pachadi Recipe (Sprouted Horse gram Rait...       Tamil Nadu   \n",
      "4     Chingiri Paturi or Prawn Paturi is a famous tr...  Bengali Recipes   \n",
      "...                                                 ...              ...   \n",
      "7074  Eggless Tutti Frutti Cookie don't only look de...      Continental   \n",
      "7075  The Chocolate Chip Scones recipe comes from my...      Continental   \n",
      "7076  Roth is a sacred traditional Kashmiri cookie r...      Continental   \n",
      "7077  Oatmeal Cranberry Cookie Recipe are perfect wh...      Continental   \n",
      "7078  Choco Swirl Cookies Recipe are the Eggless Cho...      Continental   \n",
      "\n",
      "               course               diet  \\\n",
      "0               Lunch         Vegetarian   \n",
      "1         Main Course         Vegetarian   \n",
      "2     World Breakfast         Vegetarian   \n",
      "3           Side Dish  Diabetic Friendly   \n",
      "4               Lunch     Non Vegeterian   \n",
      "...               ...                ...   \n",
      "7074            Snack         Vegetarian   \n",
      "7075            Snack         Eggetarian   \n",
      "7076            Snack         Vegetarian   \n",
      "7077            Snack         Vegetarian   \n",
      "7078            Snack         Vegetarian   \n",
      "\n",
      "                                       ingredients_name  \\\n",
      "0     Mixed vegetables, Onion, Tomato, Green Chilli,...   \n",
      "1     Fresh coconut, Lukewarm Water, Potatoes (Aloo)...   \n",
      "2     Whole Wheat Flour, Milk, Baking powder, Salt, ...   \n",
      "3     Horse Gram Dal (Kollu/ Kulith), Tomatoes, Onio...   \n",
      "4     Prawns, Poppy seeds, Mustard seeds (Rai/ Kadug...   \n",
      "...                                                 ...   \n",
      "7074  All Purpose Flour (Maida), Baking powder, Tutt...   \n",
      "7075  All Purpose Flour (Maida), Cocoa Powder, Sugar...   \n",
      "7076  All Purpose Flour (Maida), Sugar, Butter (Salt...   \n",
      "7077  All Purpose Flour (Maida), Instant Oats (Oatme...   \n",
      "7078  All Purpose Flour (Maida), Sugar, Butter (Salt...   \n",
      "\n",
      "                                   ingredients_quantity  prep_time (in mins)  \\\n",
      "0     1-1/2 cups Mixed vegetables , (potatoes, carro...                   15   \n",
      "1     To Make Coconut Milk 2 cups Fresh coconut , ch...                    5   \n",
      "2     1 cup Whole Wheat Flour  3/4 cup Milk , or yog...                   15   \n",
      "3     3/4 cup Horse Gram Dal (Kollu/ Kulith) , sprou...                   10   \n",
      "4     500 grams Prawns , medium size  1/2 cup Poppy ...                   10   \n",
      "...                                                 ...                  ...   \n",
      "7074  1/2 cup All Purpose Flour (Maida)  1/8 teaspoo...                   10   \n",
      "7075  Dry Ingredients 200 grams All Purpose Flour (M...                   15   \n",
      "7076  4 cups All Purpose Flour (Maida) , Or Whole Wh...                   15   \n",
      "7077  2-1/4 cups All Purpose Flour (Maida)  1 cup In...                   20   \n",
      "7078  For Vanilla Cookie Dough 1 cup All Purpose Flo...                   10   \n",
      "\n",
      "      cook_time (in mins)                                       instructions  \n",
      "0                      20  To begin making the Mint Vegetables Moilee rec...  \n",
      "1                      20  To begin making the Potato And Peas In Coconut...  \n",
      "2                      15  To begin making the Whole Wheat Chocolate Chip...  \n",
      "3                      10  We begin making the Kollu Pachadi Recipe (Spro...  \n",
      "4                      35  To begin with the Chingiri Paturi Recipe start...  \n",
      "...                   ...                                                ...  \n",
      "7074                   35  To begin the preparation of Eggless Tutti Frut...  \n",
      "7075                   30  To begin making the Chocolate Chip Scone Recip...  \n",
      "7076                   45  To begin the preparation of Kashmiri Roth, in ...  \n",
      "7077                   45  To begin making the Oatmeal Cranberry Cookie R...  \n",
      "7078                  110  To make the Choco Swirl Cookies Recipe (Eggles...  \n",
      "\n",
      "[7079 rows x 10 columns]\n"
     ]
    }
   ],
   "source": [
    "# Drop rows with missing values\n",
    "df_cleaned = df.dropna()\n",
    "\n",
    "# Remove duplicate rows\n",
    "df_cleaned = df_cleaned.drop_duplicates()\n",
    "\n",
    "# Reset the index\n",
    "df_cleaned = df_cleaned.reset_index(drop=True)\n",
    "\n",
    "# Convert columns to appropriate data types\n",
    "df_cleaned['prep_time (in mins)'] = df_cleaned['prep_time (in mins)'].astype(int)\n",
    "df_cleaned['cook_time (in mins)'] = df_cleaned['cook_time (in mins)'].astype(int)\n",
    "\n",
    "# Remove unnecessary columns\n",
    "df_cleaned = df_cleaned.drop(['image_url'], axis=1)\n",
    "\n",
    "# Print the cleaned dataset\n",
    "print(df_cleaned)"
   ]
  },
  {
   "cell_type": "code",
   "execution_count": 7,
   "metadata": {},
   "outputs": [
    {
     "name": "stdout",
     "output_type": "stream",
     "text": [
      "name                    0\n",
      "description             0\n",
      "cuisine                 0\n",
      "course                  0\n",
      "diet                    0\n",
      "ingredients_name        0\n",
      "ingredients_quantity    0\n",
      "prep_time (in mins)     0\n",
      "cook_time (in mins)     0\n",
      "instructions            0\n",
      "image_url               0\n",
      "dtype: int64\n"
     ]
    }
   ],
   "source": [
    "# Fill missing descriptions with an empty string\n",
    "#df['description'].fillna('', inplace=True)\n",
    "df.fillna({'description': ''}, inplace=True)\n",
    "# Drop rows with missing values in other columns\n",
    "df.dropna(subset=['cuisine', 'course', 'diet', 'ingredients_name', 'ingredients_quantity', 'prep_time (in mins)', 'cook_time (in mins)'], inplace=True)\n",
    "\n",
    "# Verify no missing values remain\n",
    "print(df.isnull().sum())\n"
   ]
  },
  {
   "cell_type": "code",
   "execution_count": null,
   "metadata": {
    "vscode": {
     "languageId": "r"
    }
   },
   "outputs": [],
   "source": [
    "import pandas as pd\n",
    "import seaborn as sns\n",
    "\n",
    "import matplotlib.pyplot as plt\n",
    "\n",
    "\n",
    "# Check the dimensions of the dataset\n",
    "print(\"Dataset dimensions:\", df.shape)\n",
    "\n",
    "# Check the data types of each column\n",
    "print(df.dtypes)\n",
    "\n",
    "# Check for missing values\n",
    "print(\"Missing values:\\n\", df.isnull().sum())\n",
    "\n",
    "# Summary statistics\n",
    "print(\"Summary statistics:\\n\", df.describe())\n",
    "\n",
    "# Count the number of unique values in each column\n",
    "print(\"Unique value counts:\\n\", df.nunique())\n",
    "\n",
    "# Visualize the distribution of the target variable\n",
    "sns.countplot(x='cuisine', data=df)\n",
    "plt.title('Cuisine Distribution')\n",
    "plt.xlabel('Cuisine')\n",
    "plt.ylabel('Count')\n",
    "plt.xticks(rotation=90)\n",
    "plt.show()\n",
    "\n",
    "# Visualize the correlation between numeric variables\n",
    "numeric_cols = ['prep_time (in mins)', 'cook_time (in mins)']\n",
    "sns.heatmap(df[numeric_cols].corr(), annot=True, cmap='coolwarm')\n",
    "plt.title('Correlation Heatmap')\n",
    "plt.show()"
   ]
  },
  {
   "cell_type": "code",
   "execution_count": null,
   "metadata": {},
   "outputs": [],
   "source": []
  }
 ],
 "metadata": {
  "kernelspec": {
   "display_name": ".venv",
   "language": "python",
   "name": "python3"
  },
  "language_info": {
   "codemirror_mode": {
    "name": "ipython",
    "version": 3
   },
   "file_extension": ".py",
   "mimetype": "text/x-python",
   "name": "python",
   "nbconvert_exporter": "python",
   "pygments_lexer": "ipython3",
   "version": "3.12.3"
  }
 },
 "nbformat": 4,
 "nbformat_minor": 2
}
